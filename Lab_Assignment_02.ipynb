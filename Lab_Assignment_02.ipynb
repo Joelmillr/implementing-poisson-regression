{
 "cells": [
  {
   "cell_type": "markdown",
   "metadata": {},
   "source": [
    "# Grade: /100 Mark(s)\n",
    "\n",
    "# Lab Assignment 02: Maximum Likelihood\n",
    "\n",
    "\n",
    "### Maximum Likelihood\n",
    "\n",
    "The poisson distribution https://en.wikipedia.org/wiki/Poisson_distribution is a discrete probability distribution often used to describe count-based data, like how many snowflakes fall in a day.\n",
    "\n",
    "If we have count data $y$ that are influenced by a covariate or feature $x$, we can use the maximum likelihood principle to develop a regression model relating $x$ to $y$.\n",
    "\n",
    "\n",
    "\n",
    "\n",
    "### Follow These Instructions\n",
    "\n",
    "Once you are finished, ensure to complete the following steps.\n",
    "\n",
    "1.  Restart your kernel by clicking 'Kernel' > 'Restart & Run All'.\n",
    "\n",
    "2.  Fix any errors which result from this.\n",
    "\n",
    "3.  Repeat steps 1. and 2. until your notebook runs without errors.\n",
    "\n",
    "4.  Submit your completed notebook to OWL by the deadline.\n"
   ]
  },
  {
   "cell_type": "code",
   "execution_count": 1,
   "metadata": {},
   "outputs": [],
   "source": [
    "#It's dangerous to go alone.  Take these!\n",
    "import numpy as np\n",
    "import matplotlib.pyplot as plt\n",
    "import pandas as pd\n",
    "import statsmodels.api as sm\n",
    "import statsmodels.formula.api as smf\n",
    "from statsmodels.tools import add_constant\n",
    "from scipy.optimize import minimize\n",
    "from scipy.special import gammaln\n",
    "\n"
   ]
  },
  {
   "cell_type": "markdown",
   "metadata": {},
   "source": [
    "### Question 1: /10 Mark(s)\n",
    "\n",
    "The negative log likelihood for a Poisson random variable is\n",
    "\n",
    "$$\\ell(\\lambda; \\mathbf{y}) = -\\sum_{i=1}^N\\Bigg( y_{i}\\cdot \\ln(\\lambda) - \\lambda - \\ln(y_i!) \\Bigg)$$\n",
    "\n",
    "Here, $\\mathbf{y}$ is a vector of counts and $\\lambda$ is a scalar value.\n",
    "\n",
    "Write a function called `poissonNegLogLikelihood` that takes a vector of counts $\\mathbf{y}$ and a parameter $\\lambda$ and returns the negative log likelihood.  The $\\sum_{i} \\ln(y_i!)$ does not affect the location of the maximum, and so you can omit the $ \\ln(y_i!)$ in your function.\n",
    "\n",
    "\n",
    "Test your function by calling it with `lam = 1.3` and `y=np.array([2,1,0,0])`.\n",
    "\n",
    "What happens when you call the function when `lam=np.array([1,0.5,1,3])` and  `y=np.array([2,1,0,0])`? \n",
    "\n",
    "**Answer the following below in markdown: What happens when you set an element of lam to 0 or a negative number and why?**\n"
   ]
  },
  {
   "cell_type": "code",
   "execution_count": 2,
   "metadata": {},
   "outputs": [],
   "source": [
    "def poissonNegLogLikelihood(lam,y):\n",
    "    neg_log_lik = -np.sum(y * np.log(lam) - lam)\n",
    "    return neg_log_lik"
   ]
  },
  {
   "cell_type": "code",
   "execution_count": 3,
   "metadata": {},
   "outputs": [],
   "source": [
    "#lam = 1.3"
   ]
  },
  {
   "cell_type": "code",
   "execution_count": 4,
   "metadata": {},
   "outputs": [],
   "source": [
    "lam=np.array([1,0.5,1,3])"
   ]
  },
  {
   "cell_type": "code",
   "execution_count": 5,
   "metadata": {},
   "outputs": [
    {
     "name": "stdout",
     "output_type": "stream",
     "text": [
      "6.193147180559945\n"
     ]
    }
   ],
   "source": [
    "y = np.array([2,1,0,0])\n",
    "\n",
    "pNLL = poissonNegLogLikelihood(lam,y)\n",
    "print(pNLL)"
   ]
  },
  {
   "cell_type": "markdown",
   "metadata": {},
   "source": [
    "Write your answer here\n",
    "\n",
    "---\n",
    "\n",
    "Lets try it!"
   ]
  },
  {
   "cell_type": "code",
   "execution_count": 6,
   "metadata": {
    "scrolled": false
   },
   "outputs": [],
   "source": [
    "#lam=np.array([1,0,1,3])\n",
    "#y=np.array([2,1,0,0])\n",
    "#pNLL = poissonNegLogLikelihood(lam,y)\n",
    "#print(pNLL)"
   ]
  },
  {
   "cell_type": "code",
   "execution_count": 7,
   "metadata": {},
   "outputs": [],
   "source": [
    "#np.log(0)"
   ]
  },
  {
   "cell_type": "code",
   "execution_count": 8,
   "metadata": {},
   "outputs": [],
   "source": [
    "#np.log(-1)"
   ]
  },
  {
   "cell_type": "markdown",
   "metadata": {},
   "source": [
    "When I set the value of Lamda to [1,0,1,3] - giving it an element of 0 the value returned from the function `poissonNegLogLikelihood` is inf\n",
    "\n",
    "---\n",
    "\n",
    "**Remember: `a = ln(b) <=> 10^a = b`\n",
    "\n",
    "---\n",
    "\n",
    "when: b = 0:\n",
    "\n",
    "a is undefined since no value of a can produce 0\n",
    "\n",
    "However, since `np.log(0)` = `-inf`, the result of `-np.sum(y * np.log(lam) - lam)` = `-(-inf)` = `inf`\n",
    "\n",
    "---\n",
    "\n",
    "Additionally when b < 0:\n",
    "\n",
    "if b < 0, a is undefined since no value of a can produce a number < 0\n",
    "`np.log(-1)` = `nan`"
   ]
  },
  {
   "cell_type": "markdown",
   "metadata": {},
   "source": [
    "### Question 2: /15 Mark(s)\n",
    "\n",
    "Write a function called `poissonRegressionNegLogLikelihood` that takes as arguments a vector $\\mathbf{y}$ of counts, a design matrix $\\mathbf{X}$ of features for each count, and a vector $\\mathbf{\\beta}$ of parameters. The function should return the negative log likelihood of this dataset, assuming that each element of  $\\mathbf{y}$ is independent and Poisson distributed with parameter $\\lambda = \\exp(\\mathbf{X}\\beta)$.\n",
    "\n",
    "Hint: You can use `poissonNegLogLikelihood` in this answer!\n",
    "Test your function by calling it with \n",
    "* `b=np.array([1,2])`\n",
    "* `X=np.array([[1,2,3],[2,3,1]]).T`\n",
    "* `y=np.array([0,2,10])`\n"
   ]
  },
  {
   "cell_type": "code",
   "execution_count": 9,
   "metadata": {},
   "outputs": [],
   "source": [
    "def poissonRegressionNegLogLikelihood(b, X, y):\n",
    "    lam = np.exp(X @ b)\n",
    "    neg_log_lik = -np.sum(y * np.log(lam) - lam)\n",
    "    return neg_log_lik\n"
   ]
  },
  {
   "cell_type": "code",
   "execution_count": 10,
   "metadata": {},
   "outputs": [],
   "source": [
    "b = np.array([1,2])\n",
    "X = np.array([[1,2,3],[2,3,1]]).T\n",
    "y = np.array([0,2,10])"
   ]
  },
  {
   "cell_type": "code",
   "execution_count": 11,
   "metadata": {},
   "outputs": [
    {
     "data": {
      "text/plain": [
       "3211.7843052468816"
      ]
     },
     "execution_count": 11,
     "metadata": {},
     "output_type": "execute_result"
    }
   ],
   "source": [
    "poissonRegressionNegLogLikelihood(b,X,y)"
   ]
  },
  {
   "cell_type": "markdown",
   "metadata": {},
   "source": [
    "### Question 3: /10 Mark(s)\n",
    "\n",
    "a) In `poissonRegressionNegLogLikelihood`, why did we apply the exponential function to $\\mathbf{X}\\beta$?  Hint: Can an exponential ever be negative?\n",
    "\n",
    "b) What might have happened had we just passed $\\lambda = \\mathbf{X}\\beta$?\n",
    "\n",
    "**Answer parts a) and b) below in this cell.  Write no more than 2 sentences per answer!**\n",
    "\n",
    "---\n",
    "a) I think this may have been for 2 reasons:\n",
    "Since we are using log likelyhoods, it is important that the scale of $\\lambda$ is appropriate\n",
    "\n",
    "b) as shown above in question 1, if $\\lambda$ is negative, log($\\lambda$) will be `nan`. therefore, I believe we apply the exponential function to $\\mathbf{X}\\beta$ to ensure $\\lambda$ is NOT negative"
   ]
  },
  {
   "cell_type": "markdown",
   "metadata": {},
   "source": [
    "### Question 4: /5 Mark(s)\n",
    "\n",
    "Write a function called `modelPrediction` which accepts as its first argument a vector of coefficents $\\beta$ and a design matrix $\\mathbf{X}$.  The function should return predictions of the form $\\widehat{\\mathbf{y}} = \\exp(\\mathbf{X}\\beta)$. \n",
    "\n",
    "Hint: Numpy implements the exponential using `np.exp`.  \n",
    "\n",
    "Test your function by calling it with \n",
    "* `b=np.array([1,2])`\n",
    "* `X=np.array([[1,2,3],[2,3,1]]).T`"
   ]
  },
  {
   "cell_type": "code",
   "execution_count": 12,
   "metadata": {},
   "outputs": [],
   "source": [
    "def modelPrediction(b,X):\n",
    "    yhat = np.exp(X @ b)\n",
    "    return yhat"
   ]
  },
  {
   "cell_type": "code",
   "execution_count": 13,
   "metadata": {},
   "outputs": [],
   "source": [
    "b=np.array([1,2])\n",
    "X=np.array([[1,2,3],[2,3,1]]).T"
   ]
  },
  {
   "cell_type": "code",
   "execution_count": 14,
   "metadata": {},
   "outputs": [
    {
     "data": {
      "text/plain": [
       "array([ 148.4131591 , 2980.95798704,  148.4131591 ])"
      ]
     },
     "execution_count": 14,
     "metadata": {},
     "output_type": "execute_result"
    }
   ],
   "source": [
    "modelPrediction(b,X)"
   ]
  },
  {
   "cell_type": "markdown",
   "metadata": {},
   "source": [
    "### Question 5: /15 Mark(s)\n",
    "\n",
    "Write a function called `fitModel` which accepts as its first argument argument a design matrix $\\mathbf{X}$ and as its second argument a vector of outcomes counts $\\mathbf{y}$. The function should return the maximum likelihood estimates for the coefficients of a Poisson regression of $\\mathbf{y}$ onto $\\mathbf{X}$.\n",
    "\n",
    "Test your function by calling it with \n",
    "* `X=np.array([[1,2,3],[2,3,1]]).T`\n",
    "* `y=np.array([0,2,10])`\n",
    "\n",
    "**What is your estimated b?**"
   ]
  },
  {
   "cell_type": "code",
   "execution_count": 15,
   "metadata": {},
   "outputs": [],
   "source": [
    "def fitModel(X,y):\n",
    "    beta_start = np.ones((X.shape[1], 1))\n",
    "    mle = minimize(poissonRegressionNegLogLikelihood,beta_start,(X,y))\n",
    "    betas = mle.x\n",
    "    return betas"
   ]
  },
  {
   "cell_type": "code",
   "execution_count": 16,
   "metadata": {},
   "outputs": [],
   "source": [
    "X=np.array([[1,2,3],[2,3,1]]).T\n",
    "y=np.array([0,2,10])"
   ]
  },
  {
   "cell_type": "markdown",
   "metadata": {},
   "source": [
    "Estimated b:"
   ]
  },
  {
   "cell_type": "code",
   "execution_count": 17,
   "metadata": {},
   "outputs": [
    {
     "name": "stdout",
     "output_type": "stream",
     "text": [
      "[ 0.94827558 -0.52953525]\n"
     ]
    }
   ],
   "source": [
    "print(fitModel(X,y))"
   ]
  },
  {
   "cell_type": "markdown",
   "metadata": {},
   "source": [
    "### Question 6: /20 Mark(s)\n",
    "\n",
    "Load in the data from `poisson_regression_data.csv`. Plot a scatterplot of the data. Fit a poisson regression to this data using the functions you wrote above.  Plot the model predictions over $x \\in [-2,2]$ on the same graph as the scatterplot of the data.  "
   ]
  },
  {
   "cell_type": "code",
   "execution_count": 60,
   "metadata": {},
   "outputs": [
    {
     "name": "stderr",
     "output_type": "stream",
     "text": [
      "/Users/joelmiller/opt/anaconda3/lib/python3.9/site-packages/pandas/plotting/_matplotlib/core.py:1114: UserWarning: No data for colormapping provided via 'c'. Parameters 'cmap' will be ignored\n",
      "  scatter = ax.scatter(\n"
     ]
    },
    {
     "data": {
      "text/plain": [
       "Text(0.5, 1.0, 'x vs y')"
      ]
     },
     "execution_count": 60,
     "metadata": {},
     "output_type": "execute_result"
    },
    {
     "data": {
      "image/png": "[encoded data removed]",
      "text/plain": [
       "<Figure size 720x480 with 1 Axes>"
      ]
     },
     "metadata": {
      "needs_background": "light"
     },
     "output_type": "display_data"
    }
   ],
   "source": [
    "poisson_data = pd.read_csv('poisson_regression_data.csv')\n",
    "\n",
    "fig, ax = plt.subplots(dpi = 120)\n",
    "\n",
    "x = poisson_data.x.values \n",
    "X = np.c_[np.ones(x.size), x]\n",
    "y= poisson_data.y.values\n",
    "\n",
    "betas = fitModel(X,y)\n",
    "\n",
    "newx = np.linspace(-2,2,1001)\n",
    "newX = np.c_[np.ones(newx.size), newx]\n",
    "\n",
    "y_predicted = modelPrediction(betas, newX)\n",
    "\n",
    "poisson_data.plot.scatter(x='x', y='y',ax=ax)\n",
    "ax.plot(newx, y_predicted, c = 'red', label='y_hat')\n",
    "ax.set_xlabel('X')\n",
    "ax.set_ylabel('Y')\n",
    "ax.legend()\n",
    "plt.title(\"x vs y\", fontsize=20)"
   ]
  },
  {
   "cell_type": "markdown",
   "metadata": {},
   "source": [
    "### Question 7:  /20 Mark(s)\n",
    "\n",
    "Now apply linear regression (ordinary least squares) to the data, obtain parameter estimates and plot the predictions over the same range.  Feel free to use `statsmodels` to fit the linear regression."
   ]
  },
  {
   "cell_type": "code",
   "execution_count": 62,
   "metadata": {},
   "outputs": [
    {
     "name": "stderr",
     "output_type": "stream",
     "text": [
      "/Users/joelmiller/opt/anaconda3/lib/python3.9/site-packages/pandas/plotting/_matplotlib/core.py:1114: UserWarning: No data for colormapping provided via 'c'. Parameters 'cmap' will be ignored\n",
      "  scatter = ax.scatter(\n"
     ]
    },
    {
     "data": {
      "text/plain": [
       "Text(0.5, 1.0, 'x vs y')"
      ]
     },
     "execution_count": 62,
     "metadata": {},
     "output_type": "execute_result"
    },
    {
     "data": {
      "image/png": "[encoded data removed]",
      "text/plain": [
       "<Figure size 720x480 with 1 Axes>"
      ]
     },
     "metadata": {
      "needs_background": "light"
     },
     "output_type": "display_data"
    }
   ],
   "source": [
    "poisson_data = pd.read_csv('poisson_regression_data.csv')\n",
    "\n",
    "x = poisson_data.x.values \n",
    "X = np.c_[np.ones(x.size),x]\n",
    "y = poisson_data.y.values\n",
    "\n",
    "ols_fit = sm.OLS(X, y)\n",
    "ols_params = ols_fit.fit().params[0]\n",
    "\n",
    "y_pred = newx*ols_params[1] + ols_params[0]\n",
    "\n",
    "# Plot a scatter plot of the data and your model's predictions\n",
    "fig, ax = plt.subplots(dpi = 120)\n",
    "poisson_data.plot.scatter(x='x', y='y',ax=ax)\n",
    "ax.plot(newx, y_pred, c = 'red', label=\"y_hat\")\n",
    "ax.set_xlabel('X')\n",
    "ax.set_ylabel('Y')\n",
    "ax.legend()\n",
    "plt.title(\"x vs y\", fontsize=20)"
   ]
  },
  {
   "cell_type": "markdown",
   "metadata": {},
   "source": [
    "### Question 8: /5 Mark(s)\n",
    "\n",
    "a) Do you see any major problems with the predictions from linear regression? Keep in mind that this model is intended to model counts of things. Provide your answer below in markdown in fewer than 5 sentences.\n",
    "\n",
    "---\n",
    "\n",
    "a) Yes, I see major problems with the predections from linear regression, since the goal of linear regression is to minimize the global cost it drew a line through the highest concentration of variables, and missed the overall trend of the data. \n",
    "\n"
   ]
  },
  {
   "cell_type": "markdown",
   "metadata": {},
   "source": [
    "### Follow These Instructions\n",
    "\n",
    "Once you are finished, ensure to complete the following steps.\n",
    "\n",
    "1.  Restart your kernel by clicking 'Kernel' > 'Restart & Run All'.\n",
    "\n",
    "2.  Fix any errors which result from this.\n",
    "\n",
    "3.  Repeat steps 1. and 2. until your notebook runs without errors.\n",
    "\n",
    "4.  Submit your completed notebook to OWL by the deadline."
   ]
  }
 ],
 "metadata": {
  "kernelspec": {
   "display_name": "Python 3 (ipykernel)",
   "language": "python",
   "name": "python3"
  },
  "language_info": {
   "codemirror_mode": {
    "name": "ipython",
    "version": 3
   },
   "file_extension": ".py",
   "mimetype": "text/x-python",
   "name": "python",
   "nbconvert_exporter": "python",
   "pygments_lexer": "ipython3",
   "version": "3.9.12"
  }
 },
 "nbformat": 4,
 "nbformat_minor": 4
}
